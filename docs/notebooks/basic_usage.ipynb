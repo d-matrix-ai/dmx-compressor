{
 "cells": [
  {
   "cell_type": "markdown",
   "metadata": {},
   "source": [
    "## This notebook demos the basic usage of how to create and configure a quantized model"
   ]
  },
  {
   "cell_type": "markdown",
   "metadata": {},
   "source": [
    "Define a custom model"
   ]
  },
  {
   "cell_type": "code",
   "execution_count": null,
   "metadata": {},
   "outputs": [],
   "source": [
    "import torch\n",
    "class CustomNet(torch.nn.Module):\n",
    "    def __init__(self, in_dim, out_dim) -> None:\n",
    "        super().__init__()\n",
    "        self.layer = torch.nn.Linear(in_dim, in_dim)\n",
    "\n",
    "    def forward(self, x, use_gelu=False, old_x=None):\n",
    "        x = self.layer(x)\n",
    "        if use_gelu:\n",
    "            x = torch.nn.functional.gelu(x)\n",
    "        else:\n",
    "            x = torch.nn.functional.relu(x)\n",
    "        if not old_x is None:\n",
    "            x += old_x\n",
    "        return x"
   ]
  },
  {
   "cell_type": "markdown",
   "metadata": {},
   "source": [
    "Create a DmxModel"
   ]
  },
  {
   "cell_type": "code",
   "execution_count": null,
   "metadata": {},
   "outputs": [],
   "source": [
    "from dmx.compressor.modeling import DmxModel\n",
    "torch.random.manual_seed(0)\n",
    "model = CustomNet(10, 10)\n",
    "model = DmxModel.from_torch(model)\n",
    "x = torch.rand(1, 10)\n"
   ]
  },
  {
   "cell_type": "markdown",
   "metadata": {},
   "source": [
    "Configure the model to formats equivalent to basic-mode execution on d-Matrix's hardware"
   ]
  },
  {
   "cell_type": "code",
   "execution_count": null,
   "metadata": {},
   "outputs": [],
   "source": [
    "from dmx.compressor import config_rules\n",
    "model = model.transform(\n",
    "    model.dmx_config,\n",
    "    *config_rules.BASIC,\n",
    ")"
   ]
  },
  {
   "cell_type": "code",
   "execution_count": null,
   "metadata": {},
   "outputs": [],
   "source": [
    "model(x)"
   ]
  },
  {
   "cell_type": "code",
   "execution_count": null,
   "metadata": {},
   "outputs": [],
   "source": [
    "model._gm"
   ]
  },
  {
   "cell_type": "markdown",
   "metadata": {},
   "source": [
    "Configure to other formats"
   ]
  },
  {
   "cell_type": "code",
   "execution_count": null,
   "metadata": {},
   "outputs": [],
   "source": [
    "from dmx.compressor.modeling import DmxConfigRule,Linear\n",
    "from dmx.compressor import format\n",
    "\n",
    "rules = (\n",
    "    DmxConfigRule(\n",
    "        module_types=(Linear,),\n",
    "        module_config=dict(\n",
    "            input_formats=[format.MXINT8_K64],\n",
    "            weight_format=format.MXINT4_K64,\n",
    "        ),\n",
    "    ),\n",
    ")"
   ]
  },
  {
   "cell_type": "code",
   "execution_count": null,
   "metadata": {},
   "outputs": [],
   "source": [
    "model(x)\n",
    "model(-x)\n",
    "model(x, use_gelu=True)\n",
    "model(-x, use_gelu=True, old_x=x)"
   ]
  },
  {
   "cell_type": "markdown",
   "metadata": {},
   "source": [
    "visualize latest computation graph"
   ]
  },
  {
   "cell_type": "code",
   "execution_count": null,
   "metadata": {},
   "outputs": [],
   "source": [
    "model.visualize_graph(out_file=\"graph\")"
   ]
  }
 ],
 "metadata": {
  "kernelspec": {
   "display_name": "mltools",
   "language": "python",
   "name": "python3"
  },
  "language_info": {
   "codemirror_mode": {
    "name": "ipython",
    "version": 3
   },
   "file_extension": ".py",
   "mimetype": "text/x-python",
   "name": "python",
   "nbconvert_exporter": "python",
   "pygments_lexer": "ipython3",
   "version": "3.10.14"
  }
 },
 "nbformat": 4,
 "nbformat_minor": 2
}
