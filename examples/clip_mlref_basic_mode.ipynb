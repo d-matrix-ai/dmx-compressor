{
 "cells": [
  {
   "cell_type": "markdown",
   "metadata": {},
   "source": [
    "### Raw customer model inference\n",
    "\n",
    "This is the inference script we recieve from the user."
   ]
  },
  {
   "cell_type": "code",
   "execution_count": null,
   "metadata": {},
   "outputs": [],
   "source": [
    "from transformers import pipeline\n",
    "\n",
    "# model = \"openai/clip-vit-large-patch14\"  # test with \"openai/clip-vit-base-patch32\" for faster dev iterations\n",
    "model = \"openai/clip-vit-base-patch32\"\n",
    "task = \"zero-shot-image-classification\"\n",
    "\n",
    "task_case = dict(\n",
    "    images=\"http://images.cocodataset.org/val2017/000000039769.jpg\", \n",
    "    candidate_labels=[\n",
    "        \"a photo of cats\", \n",
    "        \"a photo of dogs\", \n",
    "    ], \n",
    ")\n",
    "\n",
    "pipe = pipeline(\n",
    "    task=task, \n",
    "    model=model,\n",
    "    device_map=\"auto\",\n",
    ")\n",
    "\n",
    "print(pipe(**task_case))  # this is an inference run of the raw model directly from the customer"
   ]
  },
  {
   "cell_type": "markdown",
   "metadata": {},
   "source": [
    "### BASIC mode ML reference\n",
    "\n",
    "With the following 2 lines we transform and configure the user model to the BASIC mode for Corsair.  \n",
    "We can run the inference the exact the same way.  "
   ]
  },
  {
   "cell_type": "code",
   "execution_count": null,
   "metadata": {},
   "outputs": [],
   "source": [
    "from dmx.compressor import DmxModel\n",
    "\n",
    "pipe.model = DmxModel.from_torch(pipe.model)\n",
    "pipe.model.to_basic_mode()\n",
    "\n",
    "print(pipe(**task_case))  # this is a same inference run of the BASIC mode ML reference of the model on Corsair"
   ]
  },
  {
   "cell_type": "markdown",
   "metadata": {},
   "source": [
    "### Optional: monitor inputs/outputs of certain nodes in the graph during inference\n",
    "\n",
    "The following example shows how to monitor the inputs/outputs of certain leaf nodes in the graph.  "
   ]
  },
  {
   "cell_type": "code",
   "execution_count": null,
   "metadata": {},
   "outputs": [],
   "source": [
    "submodules_to_monitor = [\n",
    "    \"text_model.encoder.layers.0.layer_norm1\", \n",
    "    \"text_model.encoder.layers.0.mlp.activation_fn\",\n",
    "]\n",
    "\n",
    "with pipe.model.monitoring(submodules_to_monitor):  # wrap inference run in this context manager to turn on monitoring\n",
    "    print(pipe(**task_case))  # invoke inference pipeline\n",
    "\n",
    "records = pipe.model.get_monitoring_records(submodules_to_monitor)  # retrieve the recorded inputs/outputs"
   ]
  }
 ],
 "metadata": {
  "kernelspec": {
   "display_name": "ml",
   "language": "python",
   "name": "python3"
  },
  "language_info": {
   "codemirror_mode": {
    "name": "ipython",
    "version": 3
   },
   "file_extension": ".py",
   "mimetype": "text/x-python",
   "name": "python",
   "nbconvert_exporter": "python",
   "pygments_lexer": "ipython3",
   "version": "3.12.9"
  }
 },
 "nbformat": 4,
 "nbformat_minor": 2
}
