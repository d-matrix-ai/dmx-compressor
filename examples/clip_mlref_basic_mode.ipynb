{
 "cells": [
  {
   "cell_type": "code",
   "execution_count": null,
   "metadata": {},
   "outputs": [],
   "source": [
    "from transformers import pipeline\n",
    "from dmx.compressor import DmxModel\n",
    "\n",
    "model = \"openai/clip-vit-large-patch14\"  # test with \"openai/clip-vit-base-patch32\" for faster dev iterations\n",
    "task = \"zero-shot-image-classification\"\n",
    "\n",
    "task_case = dict(\n",
    "    images=\"http://images.cocodataset.org/val2017/000000039769.jpg\", \n",
    "    candidate_labels=[\n",
    "        \"a photo of cats\", \n",
    "        \"a photo of dogs\", \n",
    "    ], \n",
    ")\n",
    "\n",
    "pipe = pipeline(\n",
    "    task=task, \n",
    "    model=model,\n",
    "    device_map=\"auto\",\n",
    ")\n",
    "\n",
    "print(pipe(**task_case))  # this is an inference run of the raw model directly from the customer\n",
    "\n",
    "pipe.model = DmxModel.from_torch(pipe.model)\n",
    "pipe.model.to_basic_mode()\n",
    "\n",
    "print(pipe(**task_case))  # this is a same inference run of the BASIC mode ML reference of the model on Corsair"
   ]
  },
  {
   "cell_type": "code",
   "execution_count": null,
   "metadata": {},
   "outputs": [],
   "source": [
    "#sub ops, targeted ops in clip model graph\n",
    "targeted_ops = \"a.b.c\"\n",
    "#record input and output of targed_ops  \n",
    " "
   ]
  },
  {
   "cell_type": "code",
   "execution_count": null,
   "metadata": {},
   "outputs": [],
   "source": [
    "##record input and output\n",
    "with pipe.model.recording([targeted_ops1,targeted_ops2]):\n",
    "    (pipe(**task_case)) \n"
   ]
  },
  {
   "cell_type": "code",
   "execution_count": null,
   "metadata": {},
   "outputs": [],
   "source": [
    "ref_input, ref_output = pipe.model.reference (\n",
    "    targeted_ops\n",
    ")"
   ]
  }
 ],
 "metadata": {
  "language_info": {
   "name": "python"
  }
 },
 "nbformat": 4,
 "nbformat_minor": 2
}
