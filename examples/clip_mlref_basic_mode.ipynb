{
 "cells": [
  {
   "cell_type": "code",
   "execution_count": 1,
   "metadata": {},
   "outputs": [
    {
     "name": "stderr",
     "output_type": "stream",
     "text": [
      "/home/coder/miniconda3/envs/ml/lib/python3.12/site-packages/tqdm/auto.py:21: TqdmWarning: IProgress not found. Please update jupyter and ipywidgets. See https://ipywidgets.readthedocs.io/en/stable/user_install.html\n",
      "  from .autonotebook import tqdm as notebook_tqdm\n",
      "/home/coder/miniconda3/envs/ml/lib/python3.12/site-packages/transformers/utils/hub.py:106: FutureWarning: Using `TRANSFORMERS_CACHE` is deprecated and will be removed in v5 of Transformers. Use `HF_HOME` instead.\n",
      "  warnings.warn(\n",
      "Using a slow image processor as `use_fast` is unset and a slow processor was saved with this model. `use_fast=True` will be the default behavior in v4.48, even if the model was saved with a slow processor. This will result in minor differences in outputs. You'll still be able to use a slow processor with `use_fast=False`.\n",
      "Device set to use cuda:0\n"
     ]
    },
    {
     "name": "stdout",
     "output_type": "stream",
     "text": [
      "[{'score': 0.9988459348678589, 'label': 'a photo of cats'}, {'score': 0.0011540568666532636, 'label': 'a photo of dogs'}]\n"
     ]
    }
   ],
   "source": [
    "from transformers import pipeline\n",
    "\n",
    "# model = \"openai/clip-vit-large-patch14\"  # test with \"openai/clip-vit-base-patch32\" for faster dev iterations\n",
    "model = \"openai/clip-vit-base-patch32\"\n",
    "task = \"zero-shot-image-classification\"\n",
    "\n",
    "task_case = dict(\n",
    "    images=\"http://images.cocodataset.org/val2017/000000039769.jpg\", \n",
    "    candidate_labels=[\n",
    "        \"a photo of cats\", \n",
    "        \"a photo of dogs\", \n",
    "    ], \n",
    ")\n",
    "\n",
    "pipe = pipeline(\n",
    "    task=task, \n",
    "    model=model,\n",
    "    device_map=\"auto\",\n",
    ")\n",
    "\n",
    "print(pipe(**task_case))  # this is an inference run of the raw model directly from the customer"
   ]
  },
  {
   "cell_type": "code",
   "execution_count": 2,
   "metadata": {},
   "outputs": [
    {
     "name": "stderr",
     "output_type": "stream",
     "text": [
      "/home/coder/miniconda3/envs/ml/lib/python3.12/site-packages/torch/utils/cpp_extension.py:2059: UserWarning: TORCH_CUDA_ARCH_LIST is not set, all archs for visible cards are included for compilation. \n",
      "If this is not desired, please set os.environ['TORCH_CUDA_ARCH_LIST'].\n",
      "  warnings.warn(\n",
      "/home/coder/proj/compressor/src/dmx/compressor/modeling/model.py:490: UserWarning: Model transformation triggered\n",
      "  warnings.warn(\"Model transformation triggered\")\n"
     ]
    },
    {
     "name": "stdout",
     "output_type": "stream",
     "text": [
      "[{'score': 0.9989001750946045, 'label': 'a photo of cats'}, {'score': 0.0010998033685609698, 'label': 'a photo of dogs'}]\n"
     ]
    }
   ],
   "source": [
    "from dmx.compressor import DmxModel\n",
    "\n",
    "pipe.model = DmxModel.from_torch(pipe.model)\n",
    "pipe.model.to_basic_mode()\n",
    "\n",
    "print(pipe(**task_case))  # this is a same inference run of the BASIC mode ML reference of the model on Corsair"
   ]
  },
  {
   "cell_type": "code",
   "execution_count": 3,
   "metadata": {},
   "outputs": [
    {
     "name": "stdout",
     "output_type": "stream",
     "text": [
      "[{'score': 0.9989001750946045, 'label': 'a photo of cats'}, {'score': 0.0010998033685609698, 'label': 'a photo of dogs'}]\n"
     ]
    }
   ],
   "source": [
    "submodules_to_monitor = [\n",
    "    \"text_model.encoder.layers.0.layer_norm1\", \n",
    "    \"text_model.encoder.layers.0.mlp.activation_fn\",\n",
    "]\n",
    "\n",
    "with pipe.model.monitoring(submodules_to_monitor):\n",
    "    print(pipe(**task_case)) \n",
    "\n",
    "records = pipe.model.get_monitoring_records(submodules_to_monitor)"
   ]
  }
 ],
 "metadata": {
  "kernelspec": {
   "display_name": "ml",
   "language": "python",
   "name": "python3"
  },
  "language_info": {
   "codemirror_mode": {
    "name": "ipython",
    "version": 3
   },
   "file_extension": ".py",
   "mimetype": "text/x-python",
   "name": "python",
   "nbconvert_exporter": "python",
   "pygments_lexer": "ipython3",
   "version": "3.12.9"
  }
 },
 "nbformat": 4,
 "nbformat_minor": 2
}
