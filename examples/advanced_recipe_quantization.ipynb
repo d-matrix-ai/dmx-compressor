{
 "cells": [
  {
   "cell_type": "markdown",
   "id": "a58301fd",
   "metadata": {},
   "source": [
    "## Example ADVANCED mode recipe - SmoothQuant, calibration & GPTQ\n"
   ]
  },
  {
   "cell_type": "code",
   "execution_count": 1,
   "id": "d204aa4f",
   "metadata": {},
   "outputs": [],
   "source": [
    "import warnings\n",
    "warnings.filterwarnings(\"ignore\")"
   ]
  },
  {
   "cell_type": "markdown",
   "id": "7a9ed0dd",
   "metadata": {},
   "source": [
    "\n",
    "1. Instantiate a `torch` model from source, HF hub in this case."
   ]
  },
  {
   "cell_type": "code",
   "execution_count": 2,
   "id": "65349518",
   "metadata": {},
   "outputs": [
    {
     "name": "stderr",
     "output_type": "stream",
     "text": [
      "Using a slow image processor as `use_fast` is unset and a slow processor was saved with this model. `use_fast=True` will be the default behavior in v4.52, even if the model was saved with a slow processor. This will result in minor differences in outputs. You'll still be able to use a slow processor with `use_fast=False`.\n",
      "Device set to use cuda:0\n"
     ]
    },
    {
     "data": {
      "text/plain": [
       "[[{'score': 0.9988459348678589, 'label': 'a photo of cats'},\n",
       "  {'score': 0.0011540568666532636, 'label': 'a photo of dogs'}],\n",
       " [{'score': 0.9962789416313171, 'label': 'a kitchen scene'},\n",
       "  {'score': 0.0037210225127637386, 'label': 'a living room scene'}]]"
      ]
     },
     "execution_count": 2,
     "metadata": {},
     "output_type": "execute_result"
    }
   ],
   "source": [
    "from transformers import pipeline\n",
    "\n",
    "model = \"openai/clip-vit-base-patch32\"\n",
    "task = \"zero-shot-image-classification\"\n",
    "\n",
    "task_cases = [\n",
    "    dict(\n",
    "        images=\"http://images.cocodataset.org/val2017/000000039769.jpg\",\n",
    "        candidate_labels=[\n",
    "            \"a photo of cats\",\n",
    "            \"a photo of dogs\",\n",
    "        ],\n",
    "    ),\n",
    "    dict(\n",
    "        images=\"http://images.cocodataset.org/val2017/000000397133.jpg\",\n",
    "        candidate_labels=[\n",
    "            \"a kitchen scene\",\n",
    "            \"a living room scene\",\n",
    "        ],\n",
    "    ),\n",
    "]\n",
    "\n",
    "pipe = pipeline(\n",
    "    task=task,\n",
    "    model=model,\n",
    "    device_map=\"auto\",\n",
    ")\n",
    "\n",
    "# -------------------------------------------------------------------------------\n",
    "[pipe(**_tc) for _tc in task_cases]"
   ]
  },
  {
   "cell_type": "markdown",
   "id": "74e1ea08",
   "metadata": {},
   "source": [
    "2. Transform into `DmxModel`; this does not change the functional behavior."
   ]
  },
  {
   "cell_type": "code",
   "execution_count": 3,
   "id": "ea78b5a4",
   "metadata": {},
   "outputs": [
    {
     "data": {
      "text/plain": [
       "[[{'score': 0.9988459348678589, 'label': 'a photo of cats'},\n",
       "  {'score': 0.0011540546547621489, 'label': 'a photo of dogs'}],\n",
       " [{'score': 0.9962789416313171, 'label': 'a kitchen scene'},\n",
       "  {'score': 0.003721001325175166, 'label': 'a living room scene'}]]"
      ]
     },
     "execution_count": 3,
     "metadata": {},
     "output_type": "execute_result"
    }
   ],
   "source": [
    "from dmx.compressor import DmxModel\n",
    "\n",
    "pipe.model = DmxModel.from_torch(pipe.model)\n",
    "\n",
    "# -------------------------------------------------------------------------------\n",
    "[pipe(**_tc) for _tc in task_cases]"
   ]
  },
  {
   "cell_type": "markdown",
   "id": "32d57ed5",
   "metadata": {},
   "source": [
    "3. Apply `DmxSmoothQuantRecipe`; this does not change functional behavior bu makes subsequent quantization easier.  "
   ]
  },
  {
   "cell_type": "code",
   "execution_count": 4,
   "id": "3d2de369",
   "metadata": {},
   "outputs": [
    {
     "data": {
      "text/plain": [
       "[[{'score': 0.9988459348678589, 'label': 'a photo of cats'},\n",
       "  {'score': 0.0011540590785443783, 'label': 'a photo of dogs'}],\n",
       " [{'score': 0.9962789416313171, 'label': 'a kitchen scene'},\n",
       "  {'score': 0.0037210651207715273, 'label': 'a living room scene'}]]"
      ]
     },
     "execution_count": 4,
     "metadata": {},
     "output_type": "execute_result"
    }
   ],
   "source": [
    "from dmx.compressor import nn\n",
    "\n",
    "from dmx.compressor.advanced_recipe import (\n",
    "    DmxModuleSmoothQuantHyperparams,\n",
    "    DmxSmoothQuantRecipe,\n",
    ")\n",
    "\n",
    "\n",
    "def hp_gen(_model) -> dict:\n",
    "    return {\n",
    "        _m: DmxModuleSmoothQuantHyperparams(\n",
    "            migration_strength=0.25,\n",
    "            fuse_to_weight=True,\n",
    "        )\n",
    "        for _, _m in _model.named_dmx_modules()\n",
    "        if isinstance(_m, (nn.Linear, nn.Conv2d))\n",
    "    }\n",
    "\n",
    "\n",
    "with DmxSmoothQuantRecipe(hp_gen).applied_to(pipe.model):\n",
    "    pipe(**task_cases[0])\n",
    "\n",
    "# -------------------------------------------------------------------------------\n",
    "[pipe(**_tc) for _tc in task_cases]"
   ]
  },
  {
   "cell_type": "markdown",
   "id": "b2db9d4f",
   "metadata": {},
   "source": [
    "4. Quantization; this, without subsequent calibration, should degrade accuracy. "
   ]
  },
  {
   "cell_type": "code",
   "execution_count": 5,
   "id": "288e70d5",
   "metadata": {},
   "outputs": [
    {
     "data": {
      "text/plain": [
       "[[{'score': 0.5, 'label': 'a photo of cats'},\n",
       "  {'score': 0.5, 'label': 'a photo of dogs'}],\n",
       " [{'score': 0.5, 'label': 'a kitchen scene'},\n",
       "  {'score': 0.5, 'label': 'a living room scene'}]]"
      ]
     },
     "execution_count": 5,
     "metadata": {},
     "output_type": "execute_result"
    }
   ],
   "source": [
    "from dmx.compressor import DmxConfigRule, format, nn\n",
    "\n",
    "DmxConfigRule(\n",
    "    module_types=(nn.Linear,),\n",
    "    module_config=dict(\n",
    "        input_formats=[format.INT8],\n",
    "        weight_format=format.INT4,\n",
    "    ),\n",
    ").apply_to(pipe.model)\n",
    "\n",
    "DmxConfigRule(\n",
    "    module_types=(nn.ActActMatMul,),\n",
    "    module_config=dict(\n",
    "        input_formats=[format.INT8, format.INT8],\n",
    "    ),\n",
    ").apply_to(pipe.model)\n",
    "\n",
    "# -------------------------------------------------------------------------------\n",
    "[pipe(**_tc) for _tc in task_cases]"
   ]
  },
  {
   "cell_type": "markdown",
   "id": "fad80ab5",
   "metadata": {},
   "source": [
    "5. Calibration; this should restore some accuracy. "
   ]
  },
  {
   "cell_type": "code",
   "execution_count": 6,
   "id": "7f345dfa",
   "metadata": {},
   "outputs": [
    {
     "name": "stderr",
     "output_type": "stream",
     "text": [
      "You seem to be using the pipelines sequentially on GPU. In order to maximize efficiency please use a dataset\n"
     ]
    },
    {
     "data": {
      "text/plain": [
       "[[{'score': 0.9793279767036438, 'label': 'a photo of cats'},\n",
       "  {'score': 0.02067197673022747, 'label': 'a photo of dogs'}],\n",
       " [{'score': 0.7676579356193542, 'label': 'a kitchen scene'},\n",
       "  {'score': 0.23234213888645172, 'label': 'a living room scene'}]]"
      ]
     },
     "execution_count": 6,
     "metadata": {},
     "output_type": "execute_result"
    }
   ],
   "source": [
    "from dmx.compressor.advanced_recipe import (\n",
    "    DmxQuantizerCalibrationHyperparams,\n",
    "    DmxModuleQuantizerCalibrationHyperparams,\n",
    "    DmxQuantizerCalibrationRecipe,\n",
    ")\n",
    "\n",
    "\n",
    "def hp_gen(_model) -> dict:\n",
    "    aw_hp = {\n",
    "        _m: DmxModuleQuantizerCalibrationHyperparams(\n",
    "            inputs={\"input_cast\": DmxQuantizerCalibrationHyperparams()},\n",
    "            weight=DmxQuantizerCalibrationHyperparams(),\n",
    "        )\n",
    "        for _, _m in _model.named_dmx_modules()\n",
    "        if isinstance(_m, (nn.Linear, nn.Conv2d))\n",
    "    }\n",
    "    aa_hp = {\n",
    "        _m: DmxModuleQuantizerCalibrationHyperparams(\n",
    "            inputs={\n",
    "                \"input_cast\": DmxQuantizerCalibrationHyperparams(),\n",
    "                \"multiplier_cast\": DmxQuantizerCalibrationHyperparams(),\n",
    "            },\n",
    "        )\n",
    "        for _, _m in _model.named_dmx_modules()\n",
    "        if isinstance(_m, nn.ActActMatMul)\n",
    "    }\n",
    "    return aw_hp | aa_hp\n",
    "\n",
    "\n",
    "with DmxQuantizerCalibrationRecipe(hp_gen).applied_to(pipe.model):\n",
    "    pipe(**task_cases[0])  # calibrate on the first task case example\n",
    "\n",
    "# -------------------------------------------------------------------------------\n",
    "[pipe(**_tc) for _tc in task_cases]"
   ]
  },
  {
   "cell_type": "markdown",
   "id": "6cffaa65",
   "metadata": {},
   "source": [
    "6. GPTQ; this should restore some accuracy."
   ]
  },
  {
   "cell_type": "code",
   "execution_count": 7,
   "id": "c8c08a30",
   "metadata": {},
   "outputs": [
    {
     "data": {
      "text/plain": [
       "[[{'score': 0.9814556241035461, 'label': 'a photo of cats'},\n",
       "  {'score': 0.018544413149356842, 'label': 'a photo of dogs'}],\n",
       " [{'score': 0.8038136959075928, 'label': 'a kitchen scene'},\n",
       "  {'score': 0.19618624448776245, 'label': 'a living room scene'}]]"
      ]
     },
     "execution_count": 7,
     "metadata": {},
     "output_type": "execute_result"
    }
   ],
   "source": [
    "from dmx.compressor.advanced_recipe import (\n",
    "    DmxModuleGPTQHyperparams,\n",
    "    DmxGPTQRecipe,\n",
    ")\n",
    "\n",
    "\n",
    "def hp_gen(_model) -> dict:\n",
    "    return {\n",
    "        _m: DmxModuleGPTQHyperparams()\n",
    "        for _, _m in _model.named_dmx_modules()\n",
    "        if isinstance(_m, (nn.Linear, nn.Conv2d))\n",
    "    }\n",
    "\n",
    "with DmxGPTQRecipe(hp_gen).applied_to(pipe.model):\n",
    "    pipe(**task_cases[0])  # calibrate on the first task case example\n",
    "\n",
    "# -------------------------------------------------------------------------------\n",
    "[pipe(**_tc) for _tc in task_cases]"
   ]
  }
 ],
 "metadata": {
  "kernelspec": {
   "display_name": "ml",
   "language": "python",
   "name": "python3"
  },
  "language_info": {
   "codemirror_mode": {
    "name": "ipython",
    "version": 3
   },
   "file_extension": ".py",
   "mimetype": "text/x-python",
   "name": "python",
   "nbconvert_exporter": "python",
   "pygments_lexer": "ipython3",
   "version": "3.12.9"
  }
 },
 "nbformat": 4,
 "nbformat_minor": 5
}
